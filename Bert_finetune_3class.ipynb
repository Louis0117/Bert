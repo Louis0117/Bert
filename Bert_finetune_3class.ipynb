{
  "cells": [
    {
      "cell_type": "markdown",
      "metadata": {
        "id": "view-in-github",
        "colab_type": "text"
      },
      "source": [
        "<a href=\"https://colab.research.google.com/github/Louis0117/Bert/blob/main/Bert_finetune_3class.ipynb\" target=\"_parent\"><img src=\"https://colab.research.google.com/assets/colab-badge.svg\" alt=\"Open In Colab\"/></a>"
      ]
    },
    {
      "cell_type": "markdown",
      "metadata": {
        "id": "Jvyh3ieqmJzO"
      },
      "source": [
        "### download "
      ]
    },
    {
      "cell_type": "code",
      "execution_count": null,
      "metadata": {
        "colab": {
          "base_uri": "https://localhost:8080/"
        },
        "id": "jsUyuxzHT2PS",
        "outputId": "1977fadd-4b54-4b0a-cea9-ced054618818"
      },
      "outputs": [
        {
          "name": "stdout",
          "output_type": "stream",
          "text": [
            "Looking in indexes: https://pypi.org/simple, https://us-python.pkg.dev/colab-wheels/public/simple/\n",
            "Requirement already satisfied: transformers in /usr/local/lib/python3.8/dist-packages (4.26.1)\n",
            "Requirement already satisfied: numpy>=1.17 in /usr/local/lib/python3.8/dist-packages (from transformers) (1.21.6)\n",
            "Requirement already satisfied: requests in /usr/local/lib/python3.8/dist-packages (from transformers) (2.25.1)\n",
            "Requirement already satisfied: regex!=2019.12.17 in /usr/local/lib/python3.8/dist-packages (from transformers) (2022.6.2)\n",
            "Requirement already satisfied: filelock in /usr/local/lib/python3.8/dist-packages (from transformers) (3.9.0)\n",
            "Requirement already satisfied: tokenizers!=0.11.3,<0.14,>=0.11.1 in /usr/local/lib/python3.8/dist-packages (from transformers) (0.13.2)\n",
            "Requirement already satisfied: packaging>=20.0 in /usr/local/lib/python3.8/dist-packages (from transformers) (23.0)\n",
            "Requirement already satisfied: huggingface-hub<1.0,>=0.11.0 in /usr/local/lib/python3.8/dist-packages (from transformers) (0.12.0)\n",
            "Requirement already satisfied: tqdm>=4.27 in /usr/local/lib/python3.8/dist-packages (from transformers) (4.64.1)\n",
            "Requirement already satisfied: pyyaml>=5.1 in /usr/local/lib/python3.8/dist-packages (from transformers) (6.0)\n",
            "Requirement already satisfied: typing-extensions>=3.7.4.3 in /usr/local/lib/python3.8/dist-packages (from huggingface-hub<1.0,>=0.11.0->transformers) (4.4.0)\n",
            "Requirement already satisfied: urllib3<1.27,>=1.21.1 in /usr/local/lib/python3.8/dist-packages (from requests->transformers) (1.24.3)\n",
            "Requirement already satisfied: chardet<5,>=3.0.2 in /usr/local/lib/python3.8/dist-packages (from requests->transformers) (4.0.0)\n",
            "Requirement already satisfied: idna<3,>=2.5 in /usr/local/lib/python3.8/dist-packages (from requests->transformers) (2.10)\n",
            "Requirement already satisfied: certifi>=2017.4.17 in /usr/local/lib/python3.8/dist-packages (from requests->transformers) (2022.12.7)\n"
          ]
        }
      ],
      "source": [
        "! pip install transformers"
      ]
    },
    {
      "cell_type": "markdown",
      "metadata": {
        "id": "jRTbtygAaygm"
      },
      "source": [
        "### import package"
      ]
    },
    {
      "cell_type": "code",
      "execution_count": null,
      "metadata": {
        "id": "jxxlRFVzKSwL"
      },
      "outputs": [],
      "source": [
        "from google.colab import drive\n",
        "import pandas as pd\n",
        "import torch\n",
        "from transformers import BertTokenizer\n",
        "from IPython.display import clear_output \n",
        "import numpy as np\n",
        "from datetime import datetime\n",
        "from sklearn.model_selection import train_test_split\n",
        "import matplotlib.pyplot as plt\n",
        "from transformers import BertForSequenceClassification\n",
        "from torch.utils.data import Dataset\n",
        "from torch.utils.data import DataLoader\n",
        "from torch.nn.utils.rnn import pad_sequence\n",
        "from sklearn.metrics import confusion_matrix\n",
        "from sklearn.metrics import accuracy_score\n",
        "from sklearn.metrics import precision_score, recall_score, f1_score"
      ]
    },
    {
      "cell_type": "markdown",
      "metadata": {
        "id": "ejyaKHoTa4Ja"
      },
      "source": [
        "### build model"
      ]
    },
    {
      "cell_type": "code",
      "execution_count": null,
      "metadata": {
        "colab": {
          "base_uri": "https://localhost:8080/",
          "height": 222
        },
        "id": "TTSt0pEq2BZe",
        "outputId": "689dba01-be67-42c8-f5d7-3214fd433dcd"
      },
      "outputs": [
        {
          "name": "stdout",
          "output_type": "stream",
          "text": [
            "\n",
            "name            module\n",
            "----------------------\n",
            "bert:embeddings\n",
            "bert:encoder\n",
            "bert:pooler\n",
            "dropout         Dropout(p=0.1, inplace=False)\n",
            "classifier      Linear(in_features=1024, out_features=3, bias=True)\n"
          ]
        }
      ],
      "source": [
        "# 載入一個可以做中文多分類任務的模型，n_class = 3\n",
        "\n",
        "\n",
        "PRETRAINED_MODEL_NAME = \"bert-large-cased\"\n",
        "NUM_LABELS = 3\n",
        "\n",
        "model = BertForSequenceClassification.from_pretrained(\n",
        "    PRETRAINED_MODEL_NAME, num_labels=NUM_LABELS)\n",
        "\n",
        "tokenizer = BertTokenizer.from_pretrained(PRETRAINED_MODEL_NAME)\n",
        "\n",
        "clear_output()\n",
        "\n",
        "# high-level 顯示此模型裡的 modules\n",
        "print(\"\"\"\n",
        "name            module\n",
        "----------------------\"\"\")\n",
        "for name, module in model.named_children():\n",
        "    if name == \"bert\":\n",
        "        for n, _ in module.named_children():\n",
        "            print(f\"{name}:{n}\")\n",
        "    else:\n",
        "        print(\"{:15} {}\".format(name, module))"
      ]
    },
    {
      "cell_type": "markdown",
      "metadata": {
        "id": "j1SFEreMa-Fn"
      },
      "source": [
        "### 連 google drive"
      ]
    },
    {
      "cell_type": "code",
      "execution_count": null,
      "metadata": {
        "colab": {
          "base_uri": "https://localhost:8080/"
        },
        "id": "M7YF3mTsKfpE",
        "outputId": "708a62c4-94f5-47cd-d27f-6facdde3c998"
      },
      "outputs": [
        {
          "name": "stdout",
          "output_type": "stream",
          "text": [
            "Mounted at /content/drive\n"
          ]
        }
      ],
      "source": [
        "drive.mount('/content/drive')"
      ]
    },
    {
      "cell_type": "markdown",
      "metadata": {
        "id": "VHp7zbGObCcq"
      },
      "source": [
        "### 讀檔 / 切分訓練測試集"
      ]
    },
    {
      "cell_type": "code",
      "execution_count": null,
      "metadata": {
        "id": "ZB67JF-1wGgx"
      },
      "outputs": [],
      "source": [
        "AXS_3class = pd.read_csv('/content/drive/MyDrive/XLNet/AXS_dataset_v10/AXS_data_3class_v10.csv',index_col=False)"
      ]
    },
    {
      "cell_type": "code",
      "execution_count": null,
      "metadata": {
        "id": "94Xvy6QV5Thu"
      },
      "outputs": [],
      "source": [
        "train_set, test_set = train_test_split(AXS_3class, random_state=2018, test_size=0.2)"
      ]
    },
    {
      "cell_type": "code",
      "execution_count": null,
      "metadata": {
        "id": "nFJkSVMjEq6_"
      },
      "outputs": [],
      "source": [
        "train_set.reset_index(drop=True,inplace=True)"
      ]
    },
    {
      "cell_type": "code",
      "execution_count": null,
      "metadata": {
        "id": "_JAUN0wwE40R"
      },
      "outputs": [],
      "source": [
        "test_set.reset_index(drop=True,inplace=True)"
      ]
    },
    {
      "cell_type": "markdown",
      "metadata": {
        "id": "x_oKJ7UsbhJd"
      },
      "source": [
        "### function"
      ]
    },
    {
      "cell_type": "code",
      "execution_count": null,
      "metadata": {
        "colab": {
          "base_uri": "https://localhost:8080/"
        },
        "id": "Qvmm142SLA-I",
        "outputId": "fd6940b9-5ff8-4ee9-b09c-5675738e25db"
      },
      "outputs": [
        {
          "name": "stdout",
          "output_type": "stream",
          "text": [
            "device: cuda:0\n"
          ]
        }
      ],
      "source": [
        "def get_predictions(model, dataloader, compute_acc=False):\n",
        "    predictions = None\n",
        "    correct = 0\n",
        "    total = 0\n",
        "    model.eval()  \n",
        "    with torch.no_grad():\n",
        "        # 遍巡整個資料集\n",
        "        for data in dataloader:\n",
        "            # 將所有 tensors 移到 GPU 上\n",
        "            if next(model.parameters()).is_cuda:\n",
        "                data = [t.to(\"cuda:0\") for t in data if t is not None]\n",
        "            \n",
        "            \n",
        "            # 別忘記前 3 個 tensors 分別為 tokens, segments 以及 masks\n",
        "            # 且強烈建議在將這些 tensors 丟入 `model` 時指定對應的參數名稱\n",
        "            tokens_tensors, segments_tensors, masks_tensors = data[:3]\n",
        "            outputs = model(input_ids=tokens_tensors, \n",
        "                            token_type_ids=segments_tensors, \n",
        "                            attention_mask=masks_tensors)\n",
        "            \n",
        "            logits = outputs[0]\n",
        "            _, pred = torch.max(logits.data, 1)\n",
        "            \n",
        "            # 用來計算訓練集的分類準確率\n",
        "            if compute_acc:\n",
        "                labels = data[3]\n",
        "                total += labels.size(0)\n",
        "                correct += (pred == labels).sum().item()\n",
        "                \n",
        "            # 將當前 batch 記錄下來\n",
        "            if predictions is None:\n",
        "                predictions = pred\n",
        "            else:\n",
        "                predictions = torch.cat((predictions, pred))\n",
        "    \n",
        "    if compute_acc:\n",
        "        acc = correct / total\n",
        "        return predictions, acc\n",
        "    return predictions\n",
        "    \n",
        "# 讓模型跑在 GPU 上並取得訓練集的分類準確率\n",
        "device = torch.device(\"cuda:0\" if torch.cuda.is_available() else \"cpu\")\n",
        "print(\"device:\", device)\n",
        "model = model.to(device)\n",
        "#_, acc = get_predictions(model, trainloader, compute_acc=True)\n",
        "#print(\"classification acc:\", acc)"
      ]
    },
    {
      "cell_type": "code",
      "execution_count": null,
      "metadata": {
        "id": "JmKEXBp1NUx5"
      },
      "outputs": [],
      "source": [
        "class DatasetCreate(Dataset):\n",
        "    # 讀取前處理後的 tsv 檔並初始化一些參數\n",
        "    def __init__(self, mode , train_data , test_data , tokenizer):\n",
        "        self.mode = mode\n",
        "        if self.mode == 'train':\n",
        "          self.df = train_data\n",
        "        elif self.mode == 'test':\n",
        "          self.df = test_data\n",
        "\n",
        "        self.len = len(self.df)\n",
        "        #self.label_map = {'negative': 0, 'positive': 1 }\n",
        "        self.tokenizer = tokenizer  # 我們將使用 BERT tokenizer\n",
        "\n",
        "    # 定義回傳一筆訓練 / 測試數據的函式\n",
        "    def __getitem__(self, idx):\n",
        "        if self.mode == \"test\":\n",
        "            text_a = self.df['text'][idx]\n",
        "            label_tensor = None\n",
        "        else:\n",
        "            text_a = self.df['text'][idx]\n",
        "            label = int(self.df['label'][idx])\n",
        "            # 將 label 文字也轉換成索引方便轉換成 tensor\n",
        "            #label_id = self.label_map[label]\n",
        "            #label_tensor = torch.tensor(label_id)\n",
        "            label_tensor = torch.tensor(label)\n",
        "\n",
        "        # 建立第一個句子的 BERT tokens 並加入分隔符號 [SEP]\n",
        "        word_pieces = [\"[CLS]\"]\n",
        "        tokens_a = self.tokenizer.tokenize(text_a)\n",
        "        word_pieces += tokens_a\n",
        "        #word_pieces += tokens_a + [\"[SEP]\"]\n",
        "        len_a = len(word_pieces)\n",
        "        \n",
        "        # 第二個句子的 BERT tokens\n",
        "        #tokens_b = self.tokenizer.tokenize(text_b)\n",
        "        #word_pieces += tokens_b + [\"[SEP]\"]\n",
        "        #len_b = len(word_pieces) - len_a\n",
        "        \n",
        "        # 將整個 token 序列轉換成索引序列\n",
        "        ids = self.tokenizer.convert_tokens_to_ids(word_pieces)\n",
        "        tokens_tensor = torch.tensor(ids)\n",
        "        \n",
        "        # 將第一句包含 [SEP] 的 token 位置設為 0，其他為 1 表示第二句\n",
        "        segments_tensor = torch.tensor([0] * len_a , \n",
        "                                        dtype=torch.long)\n",
        "        \n",
        "        return (tokens_tensor, segments_tensor, label_tensor)\n",
        "    \n",
        "    def __len__(self):\n",
        "        return self.len\n",
        "    \n",
        "    \n",
        "# 初始化一個專門讀取訓練樣本的 Dataset，使用中文 BERT 斷詞\n",
        "trainset = DatasetCreate('train' , train_set , test_set , tokenizer=tokenizer)"
      ]
    },
    {
      "cell_type": "code",
      "execution_count": null,
      "metadata": {
        "id": "iZWmLSS6ysCX"
      },
      "outputs": [],
      "source": [
        "\"\"\"\n",
        "實作可以一次回傳一個 mini-batch 的 DataLoader\n",
        "這個 DataLoader 吃我們上面定義的 `FakeNewsDataset`，\n",
        "回傳訓練 BERT 時會需要的 4 個 tensors：\n",
        "- tokens_tensors  : (batch_size, max_seq_len_in_batch)\n",
        "- segments_tensors: (batch_size, max_seq_len_in_batch)\n",
        "- masks_tensors   : (batch_size, max_seq_len_in_batch)\n",
        "- label_ids       : (batch_size)\n",
        "\"\"\"\n",
        "\n",
        "# 這個函式的輸入 `samples` 是一個 list，裡頭的每個 element 都是\n",
        "# 剛剛定義的 `FakeNewsDataset` 回傳的一個樣本，每個樣本都包含 3 tensors：\n",
        "# - tokens_tensor\n",
        "# - segments_tensor\n",
        "# - label_tensor\n",
        "# 它會對前兩個 tensors 作 zero padding，並產生前面說明過的 masks_tensors\n",
        "\n",
        "def create_mini_batch(samples):\n",
        "    tokens_tensors = [s[0] for s in samples]\n",
        "    segments_tensors = [s[1] for s in samples]\n",
        "    \n",
        "    \n",
        "    # 測試集有 labels\n",
        "    if samples[0][2] is not None:\n",
        "        label_ids = torch.stack([s[2] for s in samples])\n",
        "    else:\n",
        "        label_ids = None\n",
        "    \n",
        "\n",
        "    # zero pad 到同一序列長度\n",
        "    tokens_tensors = pad_sequence(tokens_tensors, \n",
        "                                  batch_first=True)\n",
        "    segments_tensors = pad_sequence(segments_tensors, \n",
        "                                    batch_first=True)\n",
        "    \n",
        "    # attention masks，將 tokens_tensors 裡頭不為 zero padding\n",
        "    # 的位置設為 1 讓 BERT 只關注這些位置的 tokens\n",
        "    masks_tensors = torch.zeros(tokens_tensors.shape, \n",
        "                                dtype=torch.long)\n",
        "    masks_tensors = masks_tensors.masked_fill(\n",
        "        tokens_tensors != 0, 1)\n",
        "    \n",
        "    return tokens_tensors, segments_tensors, masks_tensors, label_ids\n",
        "\n",
        "\n",
        "# 初始化一個每次回傳 64 個訓練樣本的 DataLoader\n",
        "# 利用 `collate_fn` 將 list of samples 合併成一個 mini-batch 是關鍵\n",
        "\n",
        "BATCH_SIZE = 32\n",
        "trainloader = DataLoader(trainset, batch_size=BATCH_SIZE, \n",
        "                         collate_fn=create_mini_batch)"
      ]
    },
    {
      "cell_type": "markdown",
      "metadata": {
        "id": "nJsJQCMNpaEU"
      },
      "source": [
        "### train model"
      ]
    },
    {
      "cell_type": "code",
      "execution_count": null,
      "metadata": {
        "colab": {
          "background_save": true,
          "base_uri": "https://localhost:8080/"
        },
        "id": "stsKofv8GQTN",
        "outputId": "d079c889-c6bc-4986-9e12-fcbc22a19a15"
      },
      "outputs": [
        {
          "name": "stdout",
          "output_type": "stream",
          "text": [
            "[epoch 1] loss: 99.569, acc: 0.613\n",
            "[epoch 2] loss: 88.312, acc: 0.781\n",
            "[epoch 3] loss: 62.451, acc: 0.853\n",
            "[epoch 4] loss: 41.337, acc: 0.953\n",
            "[epoch 5] loss: 21.320, acc: 0.973\n",
            "[epoch 6] loss: 10.265, acc: 0.984\n",
            "[epoch 7] loss: 9.501, acc: 0.989\n",
            "[epoch 8] loss: 6.976, acc: 0.990\n",
            "[epoch 9] loss: 3.711, acc: 0.991\n",
            "[epoch 10] loss: 4.530, acc: 0.990\n",
            "[epoch 11] loss: 4.032, acc: 0.999\n",
            "[epoch 12] loss: 1.607, acc: 0.998\n",
            "[epoch 13] loss: 1.124, acc: 0.999\n",
            "[epoch 14] loss: 0.732, acc: 0.999\n",
            "[epoch 15] loss: 0.406, acc: 0.999\n",
            "[epoch 16] loss: 0.405, acc: 0.999\n",
            "[epoch 17] loss: 0.339, acc: 1.000\n",
            "[epoch 18] loss: 0.289, acc: 1.000\n",
            "[epoch 19] loss: 0.241, acc: 1.000\n",
            "[epoch 20] loss: 0.170, acc: 1.000\n",
            "[epoch 21] loss: 0.034, acc: 1.000\n",
            "[epoch 22] loss: 0.020, acc: 1.000\n",
            "[epoch 23] loss: 0.015, acc: 1.000\n",
            "[epoch 24] loss: 0.013, acc: 1.000\n",
            "[epoch 25] loss: 0.012, acc: 1.000\n",
            "[epoch 26] loss: 0.010, acc: 1.000\n",
            "[epoch 27] loss: 0.009, acc: 1.000\n",
            "[epoch 28] loss: 0.009, acc: 1.000\n",
            "[epoch 29] loss: 0.008, acc: 1.000\n",
            "[epoch 30] loss: 0.007, acc: 1.000\n",
            "[epoch 31] loss: 0.007, acc: 1.000\n",
            "[epoch 32] loss: 0.006, acc: 1.000\n",
            "[epoch 33] loss: 0.006, acc: 1.000\n",
            "[epoch 34] loss: 0.005, acc: 1.000\n",
            "[epoch 35] loss: 0.005, acc: 1.000\n",
            "[epoch 36] loss: 0.005, acc: 1.000\n",
            "[epoch 37] loss: 0.004, acc: 1.000\n",
            "[epoch 38] loss: 0.004, acc: 1.000\n",
            "[epoch 39] loss: 0.004, acc: 1.000\n",
            "[epoch 40] loss: 0.004, acc: 1.000\n"
          ]
        }
      ],
      "source": [
        "loss_record = []\n",
        "\n",
        "#%%time\n",
        "\n",
        "# 訓練模式\n",
        "model.train()\n",
        "\n",
        "# 使用 Adam Optim 更新整個分類模型的參數\n",
        "optimizer = torch.optim.Adam(model.parameters(), lr=2e-5)\n",
        "\n",
        "\n",
        "EPOCHS = 40  # 幸運數字\n",
        "for epoch in range(EPOCHS):\n",
        "    \n",
        "    running_loss = 0.0\n",
        "    for data in trainloader:\n",
        "        \n",
        "        tokens_tensors, segments_tensors, masks_tensors, labels = [t.to(device) for t in data]\n",
        "\n",
        "        # 將參數梯度歸零\n",
        "        optimizer.zero_grad()\n",
        "        \n",
        "        # forward pass\n",
        "        outputs = model(input_ids=tokens_tensors, \n",
        "                        token_type_ids=segments_tensors, \n",
        "                        attention_mask=masks_tensors, \n",
        "                        labels=labels)\n",
        "\n",
        "        loss = outputs[0]\n",
        "        # backward\n",
        "        loss.backward()\n",
        "        optimizer.step()\n",
        "\n",
        "        loss_record.append(loss.item())\n",
        "        # 紀錄當前 batch loss\n",
        "        running_loss += loss.item()\n",
        "        \n",
        "        \n",
        "    # 計算分類準確率\n",
        "    _, acc = get_predictions(model, trainloader, compute_acc=True)\n",
        "\n",
        "    print('[epoch %d] loss: %.3f, acc: %.3f' %\n",
        "          (epoch + 1, running_loss, acc))"
      ]
    },
    {
      "cell_type": "code",
      "execution_count": null,
      "metadata": {
        "colab": {
          "background_save": true
        },
        "id": "_FG0k3glI1pz",
        "outputId": "a0754663-3abe-4d00-d3fe-5ba62e018537"
      },
      "outputs": [
        {
          "data": {
            "image/png": "[encoded data removed]",
            "text/plain": [
              "<Figure size 1440x720 with 1 Axes>"
            ]
          },
          "metadata": {},
          "output_type": "display_data"
        }
      ],
      "source": [
        "plt.figure(figsize=(20,10))\n",
        "plt.title(\"Training loss\")\n",
        "plt.xlabel(\"lteration\")\n",
        "plt.ylabel(\"Loss\")\n",
        "plt.plot(loss_record)\n",
        "plt.grid(ls='--')\n",
        "plt.show()"
      ]
    },
    {
      "cell_type": "markdown",
      "metadata": {
        "id": "TlR-qNo6pgFL"
      },
      "source": [
        "### testing"
      ]
    },
    {
      "cell_type": "code",
      "execution_count": null,
      "metadata": {
        "colab": {
          "background_save": true
        },
        "id": "w0pvKZZSwMtf"
      },
      "outputs": [],
      "source": [
        "testset = DatasetCreate('test' , train_set , test_set , tokenizer=tokenizer)\n",
        "\n",
        "testloader = DataLoader(testset, batch_size=32, \n",
        "                        collate_fn=create_mini_batch)\n",
        "\n",
        "predictions = get_predictions(model , testloader)"
      ]
    },
    {
      "cell_type": "code",
      "execution_count": null,
      "metadata": {
        "colab": {
          "background_save": true
        },
        "id": "NJlg-VftGxQz",
        "outputId": "a3b1ccd9-488a-4460-9e67-2778f017d9a1"
      },
      "outputs": [
        {
          "data": {
            "text/plain": [
              "tensor([0, 0, 1, 1, 0, 0, 0, 1, 0, 0, 2, 0, 0, 0, 0, 2, 2, 0, 2, 2, 0, 0, 0, 2,\n",
              "        0, 2, 2, 2, 0, 1, 2, 2, 0, 0, 0, 0, 0, 0, 2, 0, 0, 0, 1, 2, 0, 2, 2, 0,\n",
              "        0, 0, 2, 0, 0, 0, 1, 0, 2, 2, 0, 2, 2, 0, 0, 0, 0, 0, 2, 0, 0, 0, 0, 0,\n",
              "        1, 0, 0, 0, 1, 2, 0, 0, 0, 2, 0, 0, 2, 0, 0, 2, 0, 0, 0, 0, 0, 0, 0, 0,\n",
              "        0, 2, 0, 2, 0, 2, 0, 0, 1, 0, 0, 0, 0, 0, 0, 0, 1, 2, 0, 0, 0, 1, 0, 0,\n",
              "        0, 0, 0, 0, 2, 0, 1, 2, 0, 0, 0, 0, 1, 0, 0, 0, 1, 0, 0, 0, 0, 0, 0, 0,\n",
              "        0, 0, 1, 0, 2, 2, 0, 0, 2, 0, 0, 0, 0, 2, 0, 1, 0, 0, 0, 0, 0, 0, 0, 1,\n",
              "        0, 0, 2, 0, 0, 0, 2, 0, 1, 0, 0, 0, 0, 0, 2, 0, 0, 1, 0, 0, 0, 0, 0, 2,\n",
              "        0, 2, 0, 0, 1, 0, 0, 2, 0, 0, 2, 1, 1, 0, 0, 2, 1, 0, 0, 0, 0, 0, 1, 2,\n",
              "        2, 2, 0, 0, 0, 2, 0, 0, 2, 1, 0, 1, 0, 0, 2, 0, 0, 0, 0, 0, 1, 0, 2, 2,\n",
              "        0, 0, 0, 0, 1, 0, 0, 0, 0, 1, 0, 0, 0, 0, 0, 0, 0, 0, 1, 0, 1, 0, 0, 2,\n",
              "        0, 0, 0, 2, 0, 0, 0, 0, 1, 0, 0, 0, 0, 0, 0, 0, 2, 0, 1, 2, 0, 1, 0, 0,\n",
              "        2, 0, 0, 0, 0, 0, 1, 0, 0, 1, 0, 2, 0, 0, 1, 0, 0, 0, 2, 2, 0, 2, 0, 0,\n",
              "        2, 0, 0, 0, 0, 0, 0, 0, 2, 2, 2, 2, 0, 2, 0, 0, 2, 1, 2, 0, 0, 0, 0, 0,\n",
              "        0, 0, 0, 0, 0, 0, 0, 2, 2, 0, 2, 0, 0, 0, 0, 0, 0, 2, 0, 0, 0, 0, 2, 0,\n",
              "        0, 0, 2, 2, 2, 0, 0, 2, 2, 1, 0, 0, 0, 1, 0, 2, 0, 2, 2, 0, 0, 0, 2, 1,\n",
              "        0, 2, 0, 0, 0, 2, 0, 0, 1, 0, 0, 0, 1, 0, 0, 2, 1, 0, 0, 0, 1, 0, 0, 2,\n",
              "        0, 0, 0, 0, 2, 0, 0, 0, 0, 1, 2, 0, 1, 0, 2, 2, 0, 2, 2, 2, 0, 1, 2, 0,\n",
              "        0, 0, 0, 0, 0, 0, 1, 0, 2, 0, 0, 0, 0, 1, 0, 0, 0, 0, 2, 0, 1, 0, 0, 0,\n",
              "        0, 0, 0, 2, 1, 1, 2, 0, 0, 0, 0, 0, 1, 0, 0, 0, 0, 1, 0, 0, 2, 0, 0, 1,\n",
              "        0, 0, 2, 0, 0, 0, 1, 0, 0, 0, 1, 0, 1, 0, 0, 1, 0, 0, 0, 2, 0, 1, 0, 0,\n",
              "        0, 1, 0, 1, 0, 2, 0, 0, 0, 0, 0, 2, 2, 0, 0, 0, 1, 0, 1, 0, 0, 0, 0, 0,\n",
              "        2, 0, 0, 0, 0, 0, 0, 0, 0, 0, 0, 2, 1, 0, 2, 0, 0, 0, 0, 0, 0, 0, 0, 0,\n",
              "        0, 0, 2, 2, 0, 0, 0, 2, 2, 0, 0, 0, 0, 2, 2, 0, 0, 2, 1, 0, 0, 0, 1, 1,\n",
              "        0, 0, 0, 0, 2, 0, 0, 0, 0, 0, 0, 2, 0, 2, 1, 2, 0, 0, 0, 0, 0, 1, 0, 2,\n",
              "        0, 2, 0, 2, 1, 0, 2, 0, 0, 0, 0, 1, 0, 0, 2, 0, 0, 0, 0, 0, 2, 1, 0, 1,\n",
              "        2, 0, 0, 1, 0, 0, 0, 0, 0, 0, 0, 1, 0, 0, 0, 0, 2, 0, 0, 0, 2, 0, 0, 0,\n",
              "        2, 0, 0, 0, 0, 0, 1, 0, 0, 0, 0, 0, 0, 0, 0, 0, 0, 0, 0, 0, 2, 0, 0, 1,\n",
              "        0, 0, 2, 1, 0, 0, 0, 0, 0, 0, 0, 0, 0, 2, 2, 0, 2, 1, 0, 0, 2, 2, 0, 0,\n",
              "        1, 1, 2, 0, 0, 0, 0, 1, 0, 2, 0, 0, 1, 0, 0, 0, 0, 0, 0, 1, 0, 0, 1, 1,\n",
              "        0, 2, 0, 2, 0, 0, 2, 2, 0, 0, 0, 0, 0, 0, 0, 1, 0, 0, 0, 0, 0, 0, 2, 0,\n",
              "        2, 0, 0, 0, 0, 0, 0, 0, 2, 2, 0, 0, 0, 0, 2, 2, 0, 0, 0, 2, 2, 0, 0, 2,\n",
              "        2, 0, 0, 0, 0, 0, 0, 0, 0, 2, 0, 0, 2, 0, 0, 0, 0, 1, 2, 1, 0, 0, 1, 1,\n",
              "        1, 0, 2, 0, 2, 0, 2, 0, 0, 0, 0, 0, 0, 1, 0, 1, 0, 1, 0, 0, 2, 1, 0, 2,\n",
              "        0, 0, 0, 2, 2, 0, 0, 1, 2, 2, 1, 1, 0, 2, 2, 1, 0, 2, 2, 0],\n",
              "       device='cuda:0')"
            ]
          },
          "execution_count": 18,
          "metadata": {},
          "output_type": "execute_result"
        }
      ],
      "source": [
        "predictions"
      ]
    },
    {
      "cell_type": "code",
      "execution_count": null,
      "metadata": {
        "colab": {
          "background_save": true
        },
        "id": "IsKTcfJyHsAK"
      },
      "outputs": [],
      "source": [
        "predictions = np.array(predictions.cpu())"
      ]
    },
    {
      "cell_type": "code",
      "execution_count": null,
      "metadata": {
        "colab": {
          "background_save": true
        },
        "id": "KB8h2m5MH0Sg",
        "outputId": "7e200cc1-a1a0-426a-c748-90a77338700e"
      },
      "outputs": [
        {
          "data": {
            "text/plain": [
              "array([0, 0, 1, 1, 0, 0, 0, 1, 0, 0, 2, 0, 0, 0, 0, 2, 2, 0, 2, 2, 0, 0,\n",
              "       0, 2, 0, 2, 2, 2, 0, 1, 2, 2, 0, 0, 0, 0, 0, 0, 2, 0, 0, 0, 1, 2,\n",
              "       0, 2, 2, 0, 0, 0, 2, 0, 0, 0, 1, 0, 2, 2, 0, 2, 2, 0, 0, 0, 0, 0,\n",
              "       2, 0, 0, 0, 0, 0, 1, 0, 0, 0, 1, 2, 0, 0, 0, 2, 0, 0, 2, 0, 0, 2,\n",
              "       0, 0, 0, 0, 0, 0, 0, 0, 0, 2, 0, 2, 0, 2, 0, 0, 1, 0, 0, 0, 0, 0,\n",
              "       0, 0, 1, 2, 0, 0, 0, 1, 0, 0, 0, 0, 0, 0, 2, 0, 1, 2, 0, 0, 0, 0,\n",
              "       1, 0, 0, 0, 1, 0, 0, 0, 0, 0, 0, 0, 0, 0, 1, 0, 2, 2, 0, 0, 2, 0,\n",
              "       0, 0, 0, 2, 0, 1, 0, 0, 0, 0, 0, 0, 0, 1, 0, 0, 2, 0, 0, 0, 2, 0,\n",
              "       1, 0, 0, 0, 0, 0, 2, 0, 0, 1, 0, 0, 0, 0, 0, 2, 0, 2, 0, 0, 1, 0,\n",
              "       0, 2, 0, 0, 2, 1, 1, 0, 0, 2, 1, 0, 0, 0, 0, 0, 1, 2, 2, 2, 0, 0,\n",
              "       0, 2, 0, 0, 2, 1, 0, 1, 0, 0, 2, 0, 0, 0, 0, 0, 1, 0, 2, 2, 0, 0,\n",
              "       0, 0, 1, 0, 0, 0, 0, 1, 0, 0, 0, 0, 0, 0, 0, 0, 1, 0, 1, 0, 0, 2,\n",
              "       0, 0, 0, 2, 0, 0, 0, 0, 1, 0, 0, 0, 0, 0, 0, 0, 2, 0, 1, 2, 0, 1,\n",
              "       0, 0, 2, 0, 0, 0, 0, 0, 1, 0, 0, 1, 0, 2, 0, 0, 1, 0, 0, 0, 2, 2,\n",
              "       0, 2, 0, 0, 2, 0, 0, 0, 0, 0, 0, 0, 2, 2, 2, 2, 0, 2, 0, 0, 2, 1,\n",
              "       2, 0, 0, 0, 0, 0, 0, 0, 0, 0, 0, 0, 0, 2, 2, 0, 2, 0, 0, 0, 0, 0,\n",
              "       0, 2, 0, 0, 0, 0, 2, 0, 0, 0, 2, 2, 2, 0, 0, 2, 2, 1, 0, 0, 0, 1,\n",
              "       0, 2, 0, 2, 2, 0, 0, 0, 2, 1, 0, 2, 0, 0, 0, 2, 0, 0, 1, 0, 0, 0,\n",
              "       1, 0, 0, 2, 1, 0, 0, 0, 1, 0, 0, 2, 0, 0, 0, 0, 2, 0, 0, 0, 0, 1,\n",
              "       2, 0, 1, 0, 2, 2, 0, 2, 2, 2, 0, 1, 2, 0, 0, 0, 0, 0, 0, 0, 1, 0,\n",
              "       2, 0, 0, 0, 0, 1, 0, 0, 0, 0, 2, 0, 1, 0, 0, 0, 0, 0, 0, 2, 1, 1,\n",
              "       2, 0, 0, 0, 0, 0, 1, 0, 0, 0, 0, 1, 0, 0, 2, 0, 0, 1, 0, 0, 2, 0,\n",
              "       0, 0, 1, 0, 0, 0, 1, 0, 1, 0, 0, 1, 0, 0, 0, 2, 0, 1, 0, 0, 0, 1,\n",
              "       0, 1, 0, 2, 0, 0, 0, 0, 0, 2, 2, 0, 0, 0, 1, 0, 1, 0, 0, 0, 0, 0,\n",
              "       2, 0, 0, 0, 0, 0, 0, 0, 0, 0, 0, 2, 1, 0, 2, 0, 0, 0, 0, 0, 0, 0,\n",
              "       0, 0, 0, 0, 2, 2, 0, 0, 0, 2, 2, 0, 0, 0, 0, 2, 2, 0, 0, 2, 1, 0,\n",
              "       0, 0, 1, 1, 0, 0, 0, 0, 2, 0, 0, 0, 0, 0, 0, 2, 0, 2, 1, 2, 0, 0,\n",
              "       0, 0, 0, 1, 0, 2, 0, 2, 0, 2, 1, 0, 2, 0, 0, 0, 0, 1, 0, 0, 2, 0,\n",
              "       0, 0, 0, 0, 2, 1, 0, 1, 2, 0, 0, 1, 0, 0, 0, 0, 0, 0, 0, 1, 0, 0,\n",
              "       0, 0, 2, 0, 0, 0, 2, 0, 0, 0, 2, 0, 0, 0, 0, 0, 1, 0, 0, 0, 0, 0,\n",
              "       0, 0, 0, 0, 0, 0, 0, 0, 2, 0, 0, 1, 0, 0, 2, 1, 0, 0, 0, 0, 0, 0,\n",
              "       0, 0, 0, 2, 2, 0, 2, 1, 0, 0, 2, 2, 0, 0, 1, 1, 2, 0, 0, 0, 0, 1,\n",
              "       0, 2, 0, 0, 1, 0, 0, 0, 0, 0, 0, 1, 0, 0, 1, 1, 0, 2, 0, 2, 0, 0,\n",
              "       2, 2, 0, 0, 0, 0, 0, 0, 0, 1, 0, 0, 0, 0, 0, 0, 2, 0, 2, 0, 0, 0,\n",
              "       0, 0, 0, 0, 2, 2, 0, 0, 0, 0, 2, 2, 0, 0, 0, 2, 2, 0, 0, 2, 2, 0,\n",
              "       0, 0, 0, 0, 0, 0, 0, 2, 0, 0, 2, 0, 0, 0, 0, 1, 2, 1, 0, 0, 1, 1,\n",
              "       1, 0, 2, 0, 2, 0, 2, 0, 0, 0, 0, 0, 0, 1, 0, 1, 0, 1, 0, 0, 2, 1,\n",
              "       0, 2, 0, 0, 0, 2, 2, 0, 0, 1, 2, 2, 1, 1, 0, 2, 2, 1, 0, 2, 2, 0])"
            ]
          },
          "execution_count": 20,
          "metadata": {},
          "output_type": "execute_result"
        }
      ],
      "source": [
        "predictions"
      ]
    },
    {
      "cell_type": "code",
      "execution_count": null,
      "metadata": {
        "colab": {
          "background_save": true
        },
        "id": "zEE-MbfsIGGu"
      },
      "outputs": [],
      "source": [
        "label = np.array(test_set['label'])"
      ]
    },
    {
      "cell_type": "code",
      "execution_count": null,
      "metadata": {
        "colab": {
          "background_save": true
        },
        "id": "jc8ecyReISVg",
        "outputId": "fa1085b2-5f15-44c3-b100-960b303619aa"
      },
      "outputs": [
        {
          "data": {
            "text/plain": [
              "(836,)"
            ]
          },
          "execution_count": 22,
          "metadata": {},
          "output_type": "execute_result"
        }
      ],
      "source": [
        "predictions.shape"
      ]
    },
    {
      "cell_type": "code",
      "execution_count": null,
      "metadata": {
        "colab": {
          "background_save": true
        },
        "id": "0TCcsu57Id_h"
      },
      "outputs": [],
      "source": [
        "micro_f1score = f1_score(label, predictions, average='micro')\n",
        "macro_f1score = f1_score(label, predictions, average='macro')\n",
        "#f1score3 = f1_score(actual, predicted, average='weighted')\n",
        "confusion_matrix = confusion_matrix(label, predictions)"
      ]
    },
    {
      "cell_type": "markdown",
      "metadata": {
        "id": "kRrI2RUhsvtI"
      },
      "source": [
        "micro f1-score"
      ]
    },
    {
      "cell_type": "code",
      "execution_count": null,
      "metadata": {
        "colab": {
          "background_save": true
        },
        "id": "jRi7w3dPInN1",
        "outputId": "57e1a14c-db6a-478f-ecfd-466835a977ee"
      },
      "outputs": [
        {
          "data": {
            "text/plain": [
              "0.7416267942583733"
            ]
          },
          "execution_count": 24,
          "metadata": {},
          "output_type": "execute_result"
        }
      ],
      "source": [
        "micro_f1score"
      ]
    },
    {
      "cell_type": "markdown",
      "metadata": {
        "id": "jVlIdhwUszls"
      },
      "source": [
        "macro f1-score"
      ]
    },
    {
      "cell_type": "code",
      "execution_count": null,
      "metadata": {
        "colab": {
          "background_save": true
        },
        "id": "hLynI4brIpDJ",
        "outputId": "05a88963-8468-49c6-feb1-e42167a52bb7"
      },
      "outputs": [
        {
          "data": {
            "text/plain": [
              "0.6825871885881373"
            ]
          },
          "execution_count": 25,
          "metadata": {},
          "output_type": "execute_result"
        }
      ],
      "source": [
        "macro_f1score"
      ]
    },
    {
      "cell_type": "markdown",
      "metadata": {
        "id": "ojjui4zWs2bK"
      },
      "source": [
        "confusion matrix"
      ]
    },
    {
      "cell_type": "code",
      "execution_count": null,
      "metadata": {
        "colab": {
          "background_save": true
        },
        "id": "w45tgokXItk9",
        "outputId": "43453e78-51ed-45df-d5be-35ef2d09ada8"
      },
      "outputs": [
        {
          "data": {
            "text/plain": [
              "array([[430,  22,  44],\n",
              "       [ 74,  77,  10],\n",
              "       [ 63,   3, 113]])"
            ]
          },
          "execution_count": 26,
          "metadata": {},
          "output_type": "execute_result"
        }
      ],
      "source": [
        "confusion_matrix"
      ]
    },
    {
      "cell_type": "markdown",
      "metadata": {
        "id": "Zo4ducO6s8ID"
      },
      "source": [
        "### reference\n",
        "https://leemeng.tw/attack_on_bert_transfer_learning_in_nlp.html"
      ]
    }
  ],
  "metadata": {
    "accelerator": "GPU",
    "colab": {
      "provenance": [],
      "authorship_tag": "ABX9TyOWSMRDOMoc3Jk2f5bFz9i9",
      "include_colab_link": true
    },
    "gpuClass": "standard",
    "kernelspec": {
      "display_name": "Python 3",
      "name": "python3"
    },
    "language_info": {
      "name": "python"
    }
  },
  "nbformat": 4,
  "nbformat_minor": 0
}